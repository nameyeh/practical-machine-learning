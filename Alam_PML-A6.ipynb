{
 "cells": [
  {
   "cell_type": "markdown",
   "metadata": {},
   "source": [
    "## Practical Machine Learning\n",
    "### Assignment 6 - Neural Networks\n",
    "\n",
    "Description:\n",
    "This individual assignment involves fitting a neural network to the MNIST data, testing alternative network structures, activation functions, optimization methods, and/or hyperparameter settings. As in Assignment 5, we will assess classification performance accuracy and processing time. Python TensorFlow should be used for Assignment 6. (If you experience difficulty installing TensorFlow, Python scikit-learn may be used as an alternative for Assignment 6.)\n",
    "\n",
    "The Benchmark Experiment\n",
    "Tested neural network structures should be explored within a benchmark experiment, a factorial design with at least two levels on each of two experimental factors (at least a 2x2 completely crossed design). But due to the time required to fit each neural network, we will observe only one trial for each cell in the design. Also, we will be using a simple training-and-test split with the split having been performed previously. That is, we use the training and test sets that come with MNIST.\n",
    "\n",
    "An example experiment could include two values for the number of nodes per inner layer and two values for the number of inner layers. Various machine learning hyperparameter settings may be used.\n",
    "\n",
    "Students are encouraged to work in STUDY TEAMS on this assignment, with the understanding that each student must run the code himself/herself and write an independent report of the experimental results. \n",
    "\n",
    "An example of the results from this assignment should be provided in a table such as the following:\n",
    "Image added to the assignment section within Canvas.\n",
    "\n",
    "In summary, this assignment asks you to fit a number of neural networks, comparing processing time and performance across experimental treatments.\n",
    "\n",
    "Management Question\n",
    "Suppose you are a financial institution evaluating machine learning technologies for optical character recognition. Initial testing is on the MNIST digits. What can you conclude from your benchmark study? Which neural network typology and hyperparameter settings would you recommend as being the most trustworthy?\n",
    "\n",
    "Programming Resources\n",
    "Géron, A. (2017). Hands-on machine learning with Scikit-Learn & TensorFlow: Concepts, tools, and techniques to build intelligent systems. Sebastopol, CA: O’Reilly. [ISBN-13 978-1-491-96229-9]. Chapter 11: Training Deep Neural Networks (pp. 275–312). Chapter 11 code (a Jupyter Notebook file 11_deep_learning.ipynb) shows how to use TensorFlow with the MNIST data set:\n",
    "Source code available at via Github\n",
    "\n",
    "\n",
    "##### Extensive coding examples are provided under:\n",
    "Modules / Technology Resources \n",
    "\n",
    "For students wanting to compare TensorFlow with scikit-learn or other systems for building neural networks, it is good to have common input data. See the programs under:\n",
    "Modules / Technology Resources / Jump-Start MNIST Data Prep\n",
    "\n",
    "For a demonstration of scikit-learn fitting of neural networks, a demonstration is shown under:\n",
    "Modules / Technology Resources / Jump-Start MNIST Scikit-Learn Neural Networks\n",
    "\n",
    "For an introduction to the TensorFlow environment for machine learning, see:\n",
    "Modules / Technology Resources / TensorFlow Warmup\n",
    "\n",
    "To get started with TensorFlow neural network classification for MNIST, see this code from Google:\n",
    "Modules / Technology Resources / TensorFlow MNIST from Google\n",
    "\n",
    "TensorFlow documentation and tutorials are available online at\n",
    "https://www.tensorflow.org/api_docs/python \n",
    "https://www.tensorflow.org/tutorials/index.html\n",
    "\n",
    "Visualization of TensorFlow work is provided through TensorBoard, with documentation at\n",
    "https://www.tensorflow.org/get_started/summaries_and_tensorboard \n",
    "https://www.tensorflow.org/get_started/graph_viz \n",
    "\n",
    "For tutorials from the TensorFlow Developers Summit 2017\n",
    "https://www.youtube.com/playlist?list=PLOU2XLYxmsIKGc_NBoIhTn2Qhraji53cv \n",
    "\n",
    "There is also a Lynda.com course introducing TensorFlow. See the reference under Modules / Technology Resources.\n",
    "\n",
    "Background information on neural network structure and parameter estimation and the mathematics of optimization (backpropagation) may be found at:\n",
    "https://www.youtube.com/watch?v=aircAruvnKk \n",
    "\n",
    "\n",
    "An advanced Google presentation from the TensorFlow Developers Summit 2017 demonstrates the wide range of possibilities available through TensorBoard:\n",
    "https://www.youtube.com/watch?v=eBbEDRsCmv4&list=PLOU2XLYxmsIKGc_NBoIhTn2Qhraji53cv&index=5\n",
    "\n",
    "\n",
    "Grading Guidelines (50 points)\n",
    "(1) Data preparation, exploration, visualization (10 points)\n",
    "(2) Review research design and modeling methods (10 points)\n",
    "(3) Review results, evaluate models (10 points)\n",
    "(4) Implementation and programming (10 points)\n",
    "(5) Exposition, problem description, and management recommendations (10 points)\n",
    "\n",
    " \n",
    "Deliverables and File Formats\n",
    "Please upload the completed jupyter notebook (PREFERRED)\n",
    "\n",
    "OR\n",
    "\n",
    "Create a folder or directory with all supplementary files with your last name at the beginning of the folder name, compress that folder with zip compression, and post the zip-archived folder under the assignment link in Canvas. The following files should be included in an archive folder/directory that is uploaded as a single zip-compressed file. (Use zip, not StuffIt or any 7z or other compression method.)\n",
    "\n",
    "1. Provide a double-spaced paper with a two-page maximum for the text. The paper should include (1) a summary and problem definition for management; (2) discussion of the research design, measurement and statistical methods, traditional and machine learning methods employed; (3) overview of programming work; and (4) review of results with recommendations for management. (The paper must be provided as an Adobe Acrobat pdf file. MS Word files are NOT acceptable.)\n",
    "\n",
    "2. Files or links to files should be provided in the format as used by the Python program.\n",
    "\n",
    "3. Complete program code in Python used to access and analyze the data. The code should be submitted as a plain text file, so it can be executed as a program in a single Python program execution within an interactive Python shell. (You may include a Python notebook in addition to the complete program code.) If there are calls to Python modules, ensure that the directory structure is maintained so that the main program may be fully executed. \n",
    "\n",
    "4. Output from the program, such as console listing/logs, text files, and graphics output for visualizations. If you use Professional Studies database servers or systems, include Linux logs of your sessions as plain text files.\n",
    "\n",
    "5. List file names and descriptions of files in the zip-compressed folder/directory.\n",
    "\n",
    "\n",
    "Formatting Python Code\n",
    "Refer to Google’s Python Style Guide for ideas about formatting Python code\n",
    "\n",
    "Also refer to Google’s TensorFlow Style Guide\n",
    "\n",
    "Comment often and in detail, highlighting major sections of code, describing the thinking behind the modeling and programming methods being employed.\n",
    "\n",
    "\n",
    "Purpose: \n",
    "The goal of this assignment is to fit a number of neural networks, comparing processing time and performance across experimental treatments. During this process we need to also address the below question that solves a business need.\n",
    "\n",
    "Additional resouces on OCR:\n",
    "https://www.ritchieng.com/machine-learning-photo-ocr/ \n",
    "\n",
    "Frameworks:\n",
    "Python TensorFlow should be used and in case you are experiencing difficulty installing TensorFlow, Python Scikit Learn can be used\n",
    "\n",
    "The following steps might help: \n",
    "- Set up Parameters such as, learning_rate, training_epochs, batch_size = 128, step = 1 along with network parameters inputs, classes, nodes & layers. \n",
    "- Define Layers, creating a NN with weights & biases \n",
    "- setup the cost Function & the optimizer\n",
    "- train model and identify model accuracy ( make sure to time the runs )\n",
    "- Repeating for different Number of Nodes/Layers\n"
   ]
  },
  {
   "cell_type": "code",
   "execution_count": 1,
   "metadata": {},
   "outputs": [
    {
     "name": "stdout",
     "output_type": "stream",
     "text": [
      "2.1.0\n",
      "2.2.4-tf\n"
     ]
    }
   ],
   "source": [
    "import pandas as pd\n",
    "import numpy as np\n",
    "import os\n",
    "from IPython.core.interactiveshell import InteractiveShell\n",
    "InteractiveShell.ast_node_interactivity = \"all\"\n",
    "import pydot\n",
    "import sys\n",
    "# print(sys.version_info)\n",
    "import sklearn\n",
    "# print(sklearn.__version__ )\n",
    "%load_ext tensorboard\n",
    "import tensorflow as tf\n",
    "print(tf.__version__)\n",
    "import tensorflow as tf \n",
    "from tensorflow import keras\n",
    "print(keras.__version__)\n",
    "RANDOM_SEED = 42\n",
    "np.random.seed(RANDOM_SEED)\n",
    "\n",
    "%matplotlib inline\n",
    "import matplotlib as mpl\n",
    "import matplotlib.pyplot as plt\n",
    "mpl.rc('axes', labelsize=14)\n",
    "mpl.rc('xtick', labelsize=12)\n",
    "mpl.rc('ytick', labelsize=12)\n",
    "import seaborn as sns\n",
    "import time\n",
    "from sklearn.model_selection import train_test_split\n",
    "import warnings\n",
    "warnings.filterwarnings(\"ignore\")\n",
    "warnings.filterwarnings(action=\"ignore\", message=\"^internal gelsd\")\n",
    "\n",
    "from tensorflow.python.framework import ops\n",
    "ops.reset_default_graph()\n",
    "\n",
    "\n",
    "import io\n",
    "import itertools\n",
    "from six.moves import range\n",
    "import datetime"
   ]
  },
  {
   "cell_type": "code",
   "execution_count": 2,
   "metadata": {},
   "outputs": [
    {
     "data": {
      "text/plain": [
       "(42000, 785)"
      ]
     },
     "execution_count": 2,
     "metadata": {},
     "output_type": "execute_result"
    },
    {
     "data": {
      "text/plain": [
       "(28000, 784)"
      ]
     },
     "execution_count": 2,
     "metadata": {},
     "output_type": "execute_result"
    }
   ],
   "source": [
    "train = pd.read_csv('.//digit-recognizer//train.csv') #read in train data\n",
    "test = pd.read_csv('.//digit-recognizer//test.csv') #read in test data\n",
    "train.shape\n",
    "test.shape\n",
    "# train.head()\n",
    "# test.head()\n",
    "# Create training and testing\n",
    "X_train, y_train = train.iloc[:, 1:], train['label']\n",
    "X_test = test"
   ]
  },
  {
   "cell_type": "code",
   "execution_count": 3,
   "metadata": {},
   "outputs": [
    {
     "data": {
      "image/png": "[encoded data removed]",
      "text/plain": [
       "<Figure size 864x720 with 1 Axes>"
      ]
     },
     "metadata": {
      "needs_background": "light"
     },
     "output_type": "display_data"
    }
   ],
   "source": [
    "x_training = (train.iloc[:,1:].values).astype('float32') # all pixel values\n",
    "y_training = train.iloc[:,0].values.astype('int32') # only labels i.e targets digits\n",
    "x_test = test.values.astype('float32')\n",
    "\n",
    "%matplotlib inline\n",
    "# preview the images first\n",
    "plt.figure(figsize=(12,10))\n",
    "x, y = 10, 4\n",
    "for i in range(6,7):  \n",
    "    plt.subplot(y, x, i+1)\n",
    "    plt.imshow(x_training[i].reshape((28,28)),\n",
    "               interpolation='nearest',cmap=\"gray\")\n",
    "plt.show();"
   ]
  },
  {
   "cell_type": "code",
   "execution_count": 4,
   "metadata": {},
   "outputs": [
    {
     "data": {
      "text/plain": [
       "<tf.Tensor: shape=(), dtype=bool, numpy=True>"
      ]
     },
     "execution_count": 4,
     "metadata": {},
     "output_type": "execute_result"
    },
    {
     "data": {
      "text/plain": [
       "Reusing TensorBoard on port 6006 (pid 22304), started 0:58:59 ago. (Use '!kill 22304' to kill it.)"
      ]
     },
     "metadata": {},
     "output_type": "display_data"
    },
    {
     "data": {
      "text/html": [
       "\n",
       "      <iframe id=\"tensorboard-frame-1df6334389c78864\" width=\"100%\" height=\"800\" frameborder=\"0\">\n",
       "      </iframe>\n",
       "      <script>\n",
       "        (function() {\n",
       "          const frame = document.getElementById(\"tensorboard-frame-1df6334389c78864\");\n",
       "          const url = new URL(\"/\", window.location);\n",
       "          url.port = 6006;\n",
       "          frame.src = url;\n",
       "        })();\n",
       "      </script>\n",
       "  "
      ],
      "text/plain": [
       "<IPython.core.display.HTML object>"
      ]
     },
     "metadata": {},
     "output_type": "display_data"
    }
   ],
   "source": [
    "# Reshape the image for the Summary API.\n",
    "img = np.reshape(x_training[6], (-1, 28, 28, 1))\n",
    "\n",
    "# Clear out any prior log data.\n",
    "!rm -rf logs\n",
    "\n",
    "# Sets up a timestamped log directory.\n",
    "logdir = \"logs/train_data/\" + datetime.datetime.now().strftime(\"%Y%m%d-%H%M%S\")\n",
    "# Creates a file writer for the log directory.\n",
    "file_writer = tf.summary.create_file_writer(logdir)\n",
    "\n",
    "# Using the file writer, log the reshaped image.\n",
    "with file_writer.as_default():\n",
    "  tf.summary.image(\"Training data\", img, step=0)\n",
    "\n",
    "# tensorboard \n",
    "%tensorboard --logdir logs/train_data"
   ]
  },
  {
   "cell_type": "code",
   "execution_count": 5,
   "metadata": {},
   "outputs": [
    {
     "name": "stdout",
     "output_type": "stream",
     "text": [
      "Shape of X Training data:  (37800, 784)\n",
      "Shape of X Validation data:  (4200, 784)\n",
      "Shape of X Test data:  (28000, 784)\n",
      "\n",
      "Shape of y Training data:  (37800,)\n",
      "Shape of y Validation data:  (4200,)\n"
     ]
    }
   ],
   "source": [
    "# normalizing data\n",
    "X_train = X_train / 255.\n",
    "y_train = y_train\n",
    "X_test = X_test / 255.\n",
    "\n",
    "X_train, X_valid, y_train, y_valid = train_test_split(X_train, y_train, test_size = 0.1, random_state=RANDOM_SEED)\n",
    "\n",
    "#Check the shape of MNIST data aset\n",
    "print(\"Shape of X Training data: \", X_train.shape)\n",
    "print(\"Shape of X Validation data: \", X_valid.shape)\n",
    "print(\"Shape of X Test data: \", X_test.shape)\n",
    "\n",
    "print(\"\\nShape of y Training data: \", y_train.shape)\n",
    "print(\"Shape of y Validation data: \", y_valid.shape)\n",
    "# print(\"Shape of Test data: \", y_test.shape)"
   ]
  },
  {
   "cell_type": "code",
   "execution_count": 6,
   "metadata": {},
   "outputs": [
    {
     "data": {
      "text/plain": [
       "<matplotlib.axes._subplots.AxesSubplot at 0x2c36940ba88>"
      ]
     },
     "execution_count": 6,
     "metadata": {},
     "output_type": "execute_result"
    },
    {
     "data": {
      "image/png": "[encoded data removed]",
      "text/plain": [
       "<Figure size 432x288 with 1 Axes>"
      ]
     },
     "metadata": {
      "needs_background": "light"
     },
     "output_type": "display_data"
    }
   ],
   "source": [
    "# check balance of classes in training data \n",
    "sns.countplot(y_train) "
   ]
  },
  {
   "cell_type": "markdown",
   "metadata": {},
   "source": [
    "####  Model 1 - 1 hidden layer: 400 neurons"
   ]
  },
  {
   "cell_type": "code",
   "execution_count": 7,
   "metadata": {},
   "outputs": [],
   "source": [
    "keras.backend.clear_session()\n",
    "np.random.seed(RANDOM_SEED)\n",
    "tf.random.set_seed(RANDOM_SEED)\n",
    "\n",
    "model = keras.models.Sequential([\n",
    "    keras.layers.Flatten(input_shape=[784,]),\n",
    "    keras.layers.Dense(400, activation=\"relu\"),\n",
    "    keras.layers.Dense(10, activation=\"softmax\")\n",
    "])"
   ]
  },
  {
   "cell_type": "code",
   "execution_count": 8,
   "metadata": {},
   "outputs": [],
   "source": [
    "model.compile(optimizer='adam',\n",
    "              loss=tf.keras.losses.SparseCategoricalCrossentropy(from_logits=True),\n",
    "              metrics=['accuracy'])"
   ]
  },
  {
   "cell_type": "code",
   "execution_count": 9,
   "metadata": {},
   "outputs": [
    {
     "name": "stdout",
     "output_type": "stream",
     "text": [
      "Train on 37800 samples, validate on 4200 samples\n",
      "Epoch 1/20\n",
      "37800/37800 [==============================] - 3s 75us/sample - loss: 1.5764 - accuracy: 0.9017 - val_loss: 1.5346 - val_accuracy: 0.9329\n",
      "Epoch 2/20\n",
      "37800/37800 [==============================] - 2s 60us/sample - loss: 1.5155 - accuracy: 0.9514 - val_loss: 1.5167 - val_accuracy: 0.9483\n",
      "Epoch 3/20\n",
      "37800/37800 [==============================] - 2s 62us/sample - loss: 1.5006 - accuracy: 0.9644 - val_loss: 1.5096 - val_accuracy: 0.9564\n",
      "Epoch 4/20\n",
      "37800/37800 [==============================] - 2s 61us/sample - loss: 1.4913 - accuracy: 0.9730 - val_loss: 1.4989 - val_accuracy: 0.9640\n",
      "Epoch 5/20\n",
      "37800/37800 [==============================] - 2s 57us/sample - loss: 1.4864 - accuracy: 0.9775 - val_loss: 1.4993 - val_accuracy: 0.9652\n",
      "Epoch 6/20\n",
      "37800/37800 [==============================] - 2s 60us/sample - loss: 1.4821 - accuracy: 0.9813 - val_loss: 1.4971 - val_accuracy: 0.9667\n",
      "Epoch 7/20\n",
      "37800/37800 [==============================] - 2s 64us/sample - loss: 1.4791 - accuracy: 0.9839 - val_loss: 1.4943 - val_accuracy: 0.9688\n",
      "Epoch 8/20\n",
      "37800/37800 [==============================] - 2s 62us/sample - loss: 1.4775 - accuracy: 0.9853 - val_loss: 1.4912 - val_accuracy: 0.9714\n",
      "Epoch 9/20\n",
      "37800/37800 [==============================] - 3s 70us/sample - loss: 1.4750 - accuracy: 0.9877 - val_loss: 1.4896 - val_accuracy: 0.9733\n",
      "Epoch 10/20\n",
      "37800/37800 [==============================] - 2s 64us/sample - loss: 1.4745 - accuracy: 0.9878 - val_loss: 1.4935 - val_accuracy: 0.9683\n",
      "Epoch 11/20\n",
      "37800/37800 [==============================] - 2s 66us/sample - loss: 1.4731 - accuracy: 0.9893 - val_loss: 1.4899 - val_accuracy: 0.9729\n",
      "Epoch 12/20\n",
      "37800/37800 [==============================] - 2s 66us/sample - loss: 1.4728 - accuracy: 0.9893 - val_loss: 1.4911 - val_accuracy: 0.9714\n",
      "Epoch 13/20\n",
      "37800/37800 [==============================] - 2s 65us/sample - loss: 1.4717 - accuracy: 0.9904 - val_loss: 1.4887 - val_accuracy: 0.9743\n",
      "Epoch 14/20\n",
      "37800/37800 [==============================] - 2s 65us/sample - loss: 1.4702 - accuracy: 0.9918 - val_loss: 1.4858 - val_accuracy: 0.9769\n",
      "Epoch 15/20\n",
      "37800/37800 [==============================] - 3s 67us/sample - loss: 1.4701 - accuracy: 0.9919 - val_loss: 1.4875 - val_accuracy: 0.9736\n",
      "Epoch 16/20\n",
      "37800/37800 [==============================] - 3s 69us/sample - loss: 1.4694 - accuracy: 0.9926 - val_loss: 1.4851 - val_accuracy: 0.9776\n",
      "Epoch 17/20\n",
      "37800/37800 [==============================] - 3s 67us/sample - loss: 1.4689 - accuracy: 0.9927 - val_loss: 1.4900 - val_accuracy: 0.9714\n",
      "Epoch 18/20\n",
      "37800/37800 [==============================] - 2s 64us/sample - loss: 1.4687 - accuracy: 0.9931 - val_loss: 1.4851 - val_accuracy: 0.9769\n",
      "Epoch 19/20\n",
      "37800/37800 [==============================] - 3s 74us/sample - loss: 1.4681 - accuracy: 0.9936 - val_loss: 1.4864 - val_accuracy: 0.9745\n",
      "Epoch 20/20\n",
      "37800/37800 [==============================] - 3s 71us/sample - loss: 1.4681 - accuracy: 0.9935 - val_loss: 1.4849 - val_accuracy: 0.9769\n",
      "37800/37800 - 1s - loss: 1.4667 - accuracy: 0.9948\n"
     ]
    },
    {
     "data": {
      "text/plain": [
       "[1.4666840896656905, 0.99478835]"
      ]
     },
     "execution_count": 9,
     "metadata": {},
     "output_type": "execute_result"
    },
    {
     "name": "stdout",
     "output_type": "stream",
     "text": [
      "4200/4200 - 0s - loss: 1.4849 - accuracy: 0.9769\n"
     ]
    },
    {
     "data": {
      "text/plain": [
       "[1.484890120824178, 0.97690475]"
      ]
     },
     "execution_count": 9,
     "metadata": {},
     "output_type": "execute_result"
    },
    {
     "name": "stdout",
     "output_type": "stream",
     "text": [
      "\n",
      "\n",
      "-------- Model 1 --------\n",
      "Training accuracy:0.99478835\n",
      "Validation accuracy:0.97690475\n",
      "\n",
      "Start time: 24.593022545\n",
      "Stop time: 76.141443878\n",
      "processing time: 51.54842133300001\n"
     ]
    }
   ],
   "source": [
    "start_time_M1 = time.clock()\n",
    "\n",
    "history = model.fit(X_train, y_train, epochs=20,batch_size=50,\n",
    "                   validation_data=(X_valid, y_valid))\n",
    "\n",
    "train_score = model.evaluate(X_train, y_train,verbose=2)\n",
    "train_score\n",
    "training_acc = train_score[1]\n",
    "\n",
    "valid_score = model.evaluate(X_valid, y_valid,verbose=2)\n",
    "valid_score\n",
    "valid_acc = valid_score[1]\n",
    "print(\"\\n\")\n",
    "print(\"-------- Model 1 --------\")\n",
    "print(\"Training accuracy:\"+str(training_acc))\n",
    "print(\"Validation accuracy:\"+str(valid_acc))\n",
    "\n",
    "# Record end time for neural network training\n",
    "stop_time_M1 = time.clock()\n",
    "#Total processing time\n",
    "runtime_M1 = stop_time_M1 - start_time_M1 \n",
    "\n",
    "print(\"\\nStart time:\", start_time_M1)\n",
    "print(\"Stop time:\", stop_time_M1)\n",
    "print(\"processing time:\", runtime_M1)"
   ]
  },
  {
   "cell_type": "code",
   "execution_count": 10,
   "metadata": {},
   "outputs": [
    {
     "name": "stdout",
     "output_type": "stream",
     "text": [
      "dict_keys(['loss', 'accuracy', 'val_loss', 'val_accuracy'])\n"
     ]
    },
    {
     "data": {
      "image/png": "[encoded data removed]",
      "text/plain": [
       "<Figure size 432x288 with 1 Axes>"
      ]
     },
     "metadata": {},
     "output_type": "display_data"
    },
    {
     "data": {
      "image/png": "[encoded data removed]",
      "text/plain": [
       "<Figure size 432x288 with 1 Axes>"
      ]
     },
     "metadata": {},
     "output_type": "display_data"
    }
   ],
   "source": [
    "plt.style.use('ggplot')\n",
    "print(history.history.keys())\n",
    "accuracy = history.history['accuracy']\n",
    "val_accuracy = history.history['val_accuracy']\n",
    "loss = history.history['loss']\n",
    "val_loss =history.history['val_loss']\n",
    "epochs = range(len(accuracy))\n",
    "plt.plot(epochs, accuracy, label='Training accuracy')\n",
    "plt.plot(epochs, val_accuracy, label='Validation accuracy')\n",
    "plt.title('Training and validation accuracy')\n",
    "plt.legend()\n",
    "plt.show();\n",
    "plt.figure()\n",
    "plt.plot(epochs, loss, label='Training loss')\n",
    "plt.plot(epochs, val_loss, label='Validation loss')\n",
    "plt.title('Training and validation loss')\n",
    "plt.legend()\n",
    "plt.show();"
   ]
  },
  {
   "cell_type": "code",
   "execution_count": 11,
   "metadata": {},
   "outputs": [
    {
     "name": "stdout",
     "output_type": "stream",
     "text": [
      "Model: \"sequential\"\n",
      "_________________________________________________________________\n",
      "Layer (type)                 Output Shape              Param #   \n",
      "=================================================================\n",
      "flatten (Flatten)            (None, 784)               0         \n",
      "_________________________________________________________________\n",
      "dense (Dense)                (None, 400)               314000    \n",
      "_________________________________________________________________\n",
      "dense_1 (Dense)              (None, 10)                4010      \n",
      "=================================================================\n",
      "Total params: 318,010\n",
      "Trainable params: 318,010\n",
      "Non-trainable params: 0\n",
      "_________________________________________________________________\n"
     ]
    },
    {
     "data": {
      "text/plain": [
       "28000"
      ]
     },
     "execution_count": 11,
     "metadata": {},
     "output_type": "execute_result"
    },
    {
     "data": {
      "text/plain": [
       "array([2, 0, 9, ..., 3, 9, 2], dtype=int64)"
      ]
     },
     "execution_count": 11,
     "metadata": {},
     "output_type": "execute_result"
    }
   ],
   "source": [
    "model.summary()\n",
    "probability_model = tf.keras.Sequential([model, \n",
    "                                         tf.keras.layers.Softmax()])\n",
    "predictions = probability_model.predict(X_test)\n",
    "# predictions[0]\n",
    "# np.argmax(predictions[0])\n",
    "# select the index with the maximum probability\n",
    "predictions = np.argmax(predictions,axis = 1)\n",
    "len(predictions)\n",
    "predictions"
   ]
  },
  {
   "cell_type": "code",
   "execution_count": 12,
   "metadata": {},
   "outputs": [],
   "source": [
    "pd.DataFrame({\"ImageId\":list(range(1,len(predictions)+1)),\n",
    "                 \"Label\":predictions}).to_csv(\"nn-model1.csv\", index=False, header=True)"
   ]
  },
  {
   "cell_type": "markdown",
   "metadata": {},
   "source": [
    "#### MODEL 1 RESULTS\n",
    "###### kaggle username: nameyeh\n",
    "###### kaggle score: 0.97528"
   ]
  },
  {
   "cell_type": "markdown",
   "metadata": {},
   "source": [
    "#### Model 2 - 2 layers, 1st layer: 400 neurons; 2nd layer: 50 neurons"
   ]
  },
  {
   "cell_type": "code",
   "execution_count": 13,
   "metadata": {},
   "outputs": [],
   "source": [
    "keras.backend.clear_session()\n",
    "np.random.seed(RANDOM_SEED)\n",
    "tf.random.set_seed(RANDOM_SEED)\n",
    "\n",
    "model = keras.models.Sequential([\n",
    "    keras.layers.Flatten(input_shape=[784,]),\n",
    "    keras.layers.Dense(400, activation=\"relu\"),\n",
    "    keras.layers.Dense(50, activation=\"relu\"),\n",
    "    keras.layers.Dense(10, activation=\"softmax\")\n",
    "])\n",
    "\n",
    "model.compile(optimizer='adam',\n",
    "              loss=tf.keras.losses.SparseCategoricalCrossentropy(from_logits=True),\n",
    "              metrics=['accuracy'])"
   ]
  },
  {
   "cell_type": "code",
   "execution_count": 14,
   "metadata": {},
   "outputs": [
    {
     "name": "stdout",
     "output_type": "stream",
     "text": [
      "Train on 37800 samples, validate on 4200 samples\n",
      "Epoch 1/20\n",
      "37800/37800 [==============================] - 4s 103us/sample - loss: 1.5701 - accuracy: 0.9033 - val_loss: 1.5270 - val_accuracy: 0.9360\n",
      "Epoch 2/20\n",
      "37800/37800 [==============================] - 4s 96us/sample - loss: 1.5130 - accuracy: 0.9508 - val_loss: 1.5176 - val_accuracy: 0.9450\n",
      "Epoch 3/20\n",
      "37800/37800 [==============================] - 3s 87us/sample - loss: 1.5002 - accuracy: 0.9630 - val_loss: 1.5041 - val_accuracy: 0.9588\n",
      "Epoch 4/20\n",
      "37800/37800 [==============================] - 3s 77us/sample - loss: 1.4911 - accuracy: 0.9714 - val_loss: 1.4962 - val_accuracy: 0.9650\n",
      "Epoch 5/20\n",
      "37800/37800 [==============================] - 3s 74us/sample - loss: 1.4862 - accuracy: 0.9760 - val_loss: 1.5010 - val_accuracy: 0.9631\n",
      "Epoch 6/20\n",
      "37800/37800 [==============================] - 3s 73us/sample - loss: 1.4853 - accuracy: 0.9767 - val_loss: 1.4991 - val_accuracy: 0.9631\n",
      "Epoch 7/20\n",
      "37800/37800 [==============================] - 4s 93us/sample - loss: 1.4819 - accuracy: 0.9801 - val_loss: 1.4939 - val_accuracy: 0.9676\n",
      "Epoch 8/20\n",
      "37800/37800 [==============================] - 3s 87us/sample - loss: 1.4804 - accuracy: 0.9814 - val_loss: 1.4927 - val_accuracy: 0.9683\n",
      "Epoch 9/20\n",
      "37800/37800 [==============================] - 3s 75us/sample - loss: 1.4783 - accuracy: 0.9833 - val_loss: 1.4927 - val_accuracy: 0.9698\n",
      "Epoch 10/20\n",
      "37800/37800 [==============================] - 4s 97us/sample - loss: 1.4766 - accuracy: 0.9852 - val_loss: 1.4938 - val_accuracy: 0.9688\n",
      "Epoch 11/20\n",
      "37800/37800 [==============================] - 3s 74us/sample - loss: 1.4759 - accuracy: 0.9860 - val_loss: 1.4880 - val_accuracy: 0.9733\n",
      "Epoch 12/20\n",
      "37800/37800 [==============================] - 3s 74us/sample - loss: 1.4755 - accuracy: 0.9861 - val_loss: 1.4915 - val_accuracy: 0.9690\n",
      "Epoch 13/20\n",
      "37800/37800 [==============================] - 3s 74us/sample - loss: 1.4747 - accuracy: 0.9867 - val_loss: 1.4918 - val_accuracy: 0.9702\n",
      "Epoch 14/20\n",
      "37800/37800 [==============================] - 3s 71us/sample - loss: 1.4728 - accuracy: 0.9888 - val_loss: 1.4879 - val_accuracy: 0.9731\n",
      "Epoch 15/20\n",
      "37800/37800 [==============================] - 3s 75us/sample - loss: 1.4723 - accuracy: 0.9893 - val_loss: 1.4882 - val_accuracy: 0.9733\n",
      "Epoch 16/20\n",
      "37800/37800 [==============================] - 3s 73us/sample - loss: 1.4728 - accuracy: 0.9885 - val_loss: 1.4968 - val_accuracy: 0.9643\n",
      "Epoch 17/20\n",
      "37800/37800 [==============================] - 3s 74us/sample - loss: 1.4722 - accuracy: 0.9893 - val_loss: 1.4901 - val_accuracy: 0.9712\n",
      "Epoch 18/20\n",
      "37800/37800 [==============================] - 3s 72us/sample - loss: 1.4718 - accuracy: 0.9895 - val_loss: 1.4888 - val_accuracy: 0.9721\n",
      "Epoch 19/20\n",
      "37800/37800 [==============================] - 3s 80us/sample - loss: 1.4714 - accuracy: 0.9898 - val_loss: 1.4881 - val_accuracy: 0.9733\n",
      "Epoch 20/20\n",
      "37800/37800 [==============================] - 3s 82us/sample - loss: 1.4720 - accuracy: 0.9893 - val_loss: 1.4914 - val_accuracy: 0.9693\n",
      "37800/37800 - 2s - loss: 1.4730 - accuracy: 0.9883\n"
     ]
    },
    {
     "data": {
      "text/plain": [
       "[1.473033783019535, 0.98825395]"
      ]
     },
     "execution_count": 14,
     "metadata": {},
     "output_type": "execute_result"
    },
    {
     "name": "stdout",
     "output_type": "stream",
     "text": [
      "4200/4200 - 0s - loss: 1.4914 - accuracy: 0.9693\n"
     ]
    },
    {
     "data": {
      "text/plain": [
       "[1.491372446332659, 0.9692857]"
      ]
     },
     "execution_count": 14,
     "metadata": {},
     "output_type": "execute_result"
    },
    {
     "name": "stdout",
     "output_type": "stream",
     "text": [
      "\n",
      "\n",
      "-------- Model 2 --------\n",
      "Training accuracy:0.98825395\n",
      "Validation accuracy:0.9692857\n",
      "\n",
      "Start time: 78.080339393\n",
      "Stop time: 141.945150545\n",
      "processing time: 63.86481115199999\n"
     ]
    }
   ],
   "source": [
    "start_time_M2 = time.clock()\n",
    "\n",
    "history = model.fit(X_train, y_train, epochs=20,batch_size=50,\n",
    "                   validation_data=(X_valid, y_valid))\n",
    "\n",
    "train_score = model.evaluate(X_train, y_train,verbose=2)\n",
    "train_score\n",
    "training_acc2 = train_score[1]\n",
    "\n",
    "valid_score = model.evaluate(X_valid, y_valid,verbose=2)\n",
    "valid_score\n",
    "valid_acc2 = valid_score[1]\n",
    "print(\"\\n\")\n",
    "print(\"-------- Model 2 --------\")\n",
    "print(\"Training accuracy:\"+str(training_acc2))\n",
    "print(\"Validation accuracy:\"+str(valid_acc2))\n",
    "\n",
    "# Record end time for neral network training\n",
    "stop_time_M2 = time.clock()\n",
    "\n",
    "#Total processing time\n",
    "runtime_M2 = stop_time_M2 - start_time_M2 \n",
    "\n",
    "print(\"\\nStart time:\", start_time_M2)\n",
    "print(\"Stop time:\", stop_time_M2)\n",
    "print(\"processing time:\", runtime_M2)"
   ]
  },
  {
   "cell_type": "code",
   "execution_count": 15,
   "metadata": {},
   "outputs": [
    {
     "name": "stdout",
     "output_type": "stream",
     "text": [
      "dict_keys(['loss', 'accuracy', 'val_loss', 'val_accuracy'])\n"
     ]
    },
    {
     "data": {
      "image/png": "[encoded data removed]",
      "text/plain": [
       "<Figure size 432x288 with 1 Axes>"
      ]
     },
     "metadata": {},
     "output_type": "display_data"
    },
    {
     "data": {
      "image/png": "[encoded data removed]",
      "text/plain": [
       "<Figure size 432x288 with 1 Axes>"
      ]
     },
     "metadata": {},
     "output_type": "display_data"
    }
   ],
   "source": [
    "plt.style.use('ggplot')\n",
    "print(history.history.keys())\n",
    "accuracy = history.history['accuracy']\n",
    "val_accuracy = history.history['val_accuracy']\n",
    "loss = history.history['loss']\n",
    "val_loss = history.history['val_loss']\n",
    "epochs = range(len(accuracy))\n",
    "plt.plot(epochs, accuracy, label='Training accuracy')\n",
    "plt.plot(epochs, val_accuracy, label='Validation accuracy')\n",
    "plt.title('Training and validation accuracy')\n",
    "plt.legend()\n",
    "plt.show();\n",
    "plt.figure()\n",
    "plt.plot(epochs, loss, label='Training loss')\n",
    "plt.plot(epochs, val_loss, label='Validation loss')\n",
    "plt.title('Training and validation loss')\n",
    "plt.legend()\n",
    "plt.show();"
   ]
  },
  {
   "cell_type": "code",
   "execution_count": 16,
   "metadata": {},
   "outputs": [
    {
     "name": "stdout",
     "output_type": "stream",
     "text": [
      "Model: \"sequential\"\n",
      "_________________________________________________________________\n",
      "Layer (type)                 Output Shape              Param #   \n",
      "=================================================================\n",
      "flatten (Flatten)            (None, 784)               0         \n",
      "_________________________________________________________________\n",
      "dense (Dense)                (None, 400)               314000    \n",
      "_________________________________________________________________\n",
      "dense_1 (Dense)              (None, 50)                20050     \n",
      "_________________________________________________________________\n",
      "dense_2 (Dense)              (None, 10)                510       \n",
      "=================================================================\n",
      "Total params: 334,560\n",
      "Trainable params: 334,560\n",
      "Non-trainable params: 0\n",
      "_________________________________________________________________\n"
     ]
    },
    {
     "data": {
      "text/plain": [
       "28000"
      ]
     },
     "execution_count": 16,
     "metadata": {},
     "output_type": "execute_result"
    },
    {
     "data": {
      "text/plain": [
       "array([2, 0, 9, ..., 3, 9, 2], dtype=int64)"
      ]
     },
     "execution_count": 16,
     "metadata": {},
     "output_type": "execute_result"
    }
   ],
   "source": [
    "model.summary()\n",
    "probability_model = tf.keras.Sequential([model, \n",
    "                                         tf.keras.layers.Softmax()])\n",
    "predictions = probability_model.predict(X_test)\n",
    "# predictions[0]\n",
    "# np.argmax(predictions[0])\n",
    "# select the index with the maximum probability\n",
    "predictions = np.argmax(predictions,axis = 1)\n",
    "len(predictions)\n",
    "predictions"
   ]
  },
  {
   "cell_type": "code",
   "execution_count": 17,
   "metadata": {},
   "outputs": [],
   "source": [
    "pd.DataFrame({\"ImageId\":list(range(1,len(predictions)+1)),\n",
    "                 \"Label\":predictions}).to_csv(\"nn-model2.csv\", index=False, header=True)"
   ]
  },
  {
   "cell_type": "markdown",
   "metadata": {},
   "source": [
    "#### MODEL 2 RESULTS\n",
    "###### kaggle username: nameyeh\n",
    "###### kaggle result: 0.96985"
   ]
  },
  {
   "cell_type": "markdown",
   "metadata": {},
   "source": [
    "#### Model 3 - 3 layers, 1st layer: 500 neurons; 2nd layer: 200 neurons; 3rd layer: 50 neurons"
   ]
  },
  {
   "cell_type": "code",
   "execution_count": 18,
   "metadata": {},
   "outputs": [],
   "source": [
    "keras.backend.clear_session()\n",
    "np.random.seed(RANDOM_SEED)\n",
    "tf.random.set_seed(RANDOM_SEED)\n",
    "\n",
    "model = keras.models.Sequential([\n",
    "    keras.layers.Flatten(input_shape=[784,]),\n",
    "    keras.layers.Dense(500, activation=\"relu\"),\n",
    "    keras.layers.Dense(200, activation=\"relu\"),\n",
    "    keras.layers.Dense(50, activation=\"relu\"),\n",
    "    keras.layers.Dense(10, activation=\"softmax\")\n",
    "])\n",
    "\n",
    "model.compile(optimizer='adam',\n",
    "              loss=tf.keras.losses.SparseCategoricalCrossentropy(from_logits=True),\n",
    "              metrics=['accuracy'])"
   ]
  },
  {
   "cell_type": "code",
   "execution_count": 19,
   "metadata": {},
   "outputs": [
    {
     "name": "stdout",
     "output_type": "stream",
     "text": [
      "Train on 37800 samples, validate on 4200 samples\n",
      "Epoch 1/20\n",
      "37800/37800 [==============================] - 6s 148us/sample - loss: 1.6169 - accuracy: 0.8509 - val_loss: 1.5259 - val_accuracy: 0.9360\n",
      "Epoch 2/20\n",
      "37800/37800 [==============================] - 5s 132us/sample - loss: 1.5140 - accuracy: 0.9486 - val_loss: 1.5198 - val_accuracy: 0.9421\n",
      "Epoch 3/20\n",
      "37800/37800 [==============================] - 5s 120us/sample - loss: 1.5028 - accuracy: 0.9589 - val_loss: 1.5103 - val_accuracy: 0.9517\n",
      "Epoch 4/20\n",
      "37800/37800 [==============================] - 5s 133us/sample - loss: 1.4972 - accuracy: 0.9643 - val_loss: 1.5070 - val_accuracy: 0.9555\n",
      "Epoch 5/20\n",
      "37800/37800 [==============================] - 4s 118us/sample - loss: 1.4934 - accuracy: 0.9681 - val_loss: 1.5079 - val_accuracy: 0.9529\n",
      "Epoch 6/20\n",
      "37800/37800 [==============================] - 4s 100us/sample - loss: 1.4908 - accuracy: 0.9705 - val_loss: 1.5073 - val_accuracy: 0.9543\n",
      "Epoch 7/20\n",
      "37800/37800 [==============================] - 4s 103us/sample - loss: 1.4890 - accuracy: 0.9724 - val_loss: 1.5047 - val_accuracy: 0.9562\n",
      "Epoch 8/20\n",
      "37800/37800 [==============================] - 4s 115us/sample - loss: 1.4897 - accuracy: 0.9714 - val_loss: 1.5019 - val_accuracy: 0.9593\n",
      "Epoch 9/20\n",
      "37800/37800 [==============================] - 4s 118us/sample - loss: 1.4870 - accuracy: 0.9743 - val_loss: 1.4994 - val_accuracy: 0.9614\n",
      "Epoch 10/20\n",
      "37800/37800 [==============================] - 5s 128us/sample - loss: 1.4860 - accuracy: 0.9753 - val_loss: 1.4931 - val_accuracy: 0.9681\n",
      "Epoch 11/20\n",
      "37800/37800 [==============================] - 4s 105us/sample - loss: 1.4841 - accuracy: 0.9769 - val_loss: 1.5099 - val_accuracy: 0.9514\n",
      "Epoch 12/20\n",
      "37800/37800 [==============================] - 4s 114us/sample - loss: 1.4831 - accuracy: 0.9779 - val_loss: 1.5007 - val_accuracy: 0.9610\n",
      "Epoch 13/20\n",
      "37800/37800 [==============================] - 4s 116us/sample - loss: 1.4843 - accuracy: 0.9767 - val_loss: 1.4965 - val_accuracy: 0.9645\n",
      "Epoch 14/20\n",
      "37800/37800 [==============================] - 5s 127us/sample - loss: 1.4844 - accuracy: 0.9767 - val_loss: 1.4986 - val_accuracy: 0.9624\n",
      "Epoch 15/20\n",
      "37800/37800 [==============================] - 5s 125us/sample - loss: 1.4832 - accuracy: 0.9779 - val_loss: 1.5011 - val_accuracy: 0.9598\n",
      "Epoch 16/20\n",
      "37800/37800 [==============================] - 5s 120us/sample - loss: 1.4843 - accuracy: 0.9769 - val_loss: 1.4976 - val_accuracy: 0.9640\n",
      "Epoch 17/20\n",
      "37800/37800 [==============================] - 5s 122us/sample - loss: 1.4814 - accuracy: 0.9797 - val_loss: 1.5027 - val_accuracy: 0.9586\n",
      "Epoch 18/20\n",
      "37800/37800 [==============================] - 5s 123us/sample - loss: 1.4835 - accuracy: 0.9775 - val_loss: 1.4964 - val_accuracy: 0.9648\n",
      "Epoch 19/20\n",
      "37800/37800 [==============================] - 5s 121us/sample - loss: 1.4834 - accuracy: 0.9776 - val_loss: 1.4958 - val_accuracy: 0.9657\n",
      "Epoch 20/20\n",
      "37800/37800 [==============================] - 5s 120us/sample - loss: 1.4808 - accuracy: 0.9802 - val_loss: 1.4952 - val_accuracy: 0.9652\n",
      "37800/37800 - 2s - loss: 1.4803 - accuracy: 0.9808\n"
     ]
    },
    {
     "data": {
      "text/plain": [
       "[1.4803090810271167, 0.9808201]"
      ]
     },
     "execution_count": 19,
     "metadata": {},
     "output_type": "execute_result"
    },
    {
     "name": "stdout",
     "output_type": "stream",
     "text": [
      "4200/4200 - 0s - loss: 1.4952 - accuracy: 0.9652\n"
     ]
    },
    {
     "data": {
      "text/plain": [
       "[1.495164540608724, 0.9652381]"
      ]
     },
     "execution_count": 19,
     "metadata": {},
     "output_type": "execute_result"
    },
    {
     "name": "stdout",
     "output_type": "stream",
     "text": [
      "\n",
      "\n",
      "-------- Model 3 --------\n",
      "Training accuracy:0.9808201\n",
      "Validation accuracy:0.9652381\n",
      "\n",
      "Start time: 144.675569454\n",
      "Stop time: 238.870114424\n",
      "processing time: 94.19454497000001\n"
     ]
    }
   ],
   "source": [
    "start_time_M3 = time.clock()\n",
    "\n",
    "history = model.fit(X_train, y_train, epochs=20,batch_size=50,\n",
    "                   validation_data=(X_valid, y_valid))\n",
    "\n",
    "train_score = model.evaluate(X_train, y_train,verbose=2)\n",
    "train_score\n",
    "training_acc3 = train_score[1]\n",
    "\n",
    "valid_score = model.evaluate(X_valid, y_valid,verbose=2)\n",
    "valid_score\n",
    "valid_acc3 = valid_score[1]\n",
    "print(\"\\n\")\n",
    "print(\"-------- Model 3 --------\")\n",
    "print(\"Training accuracy:\"+str(training_acc3))\n",
    "print(\"Validation accuracy:\"+str(valid_acc3))\n",
    "\n",
    "# Record end time for neural network training\n",
    "stop_time_M3 = time.clock()\n",
    "#Total processing time\n",
    "runtime_M3 = stop_time_M3 - start_time_M3 \n",
    "\n",
    "print(\"\\nStart time:\", start_time_M3)\n",
    "print(\"Stop time:\", stop_time_M3)\n",
    "print(\"processing time:\", runtime_M3)"
   ]
  },
  {
   "cell_type": "code",
   "execution_count": 20,
   "metadata": {},
   "outputs": [
    {
     "name": "stdout",
     "output_type": "stream",
     "text": [
      "dict_keys(['loss', 'accuracy', 'val_loss', 'val_accuracy'])\n"
     ]
    },
    {
     "data": {
      "image/png": "[encoded data removed]",
      "text/plain": [
       "<Figure size 432x288 with 1 Axes>"
      ]
     },
     "metadata": {},
     "output_type": "display_data"
    },
    {
     "data": {
      "image/png": "[encoded data removed]",
      "text/plain": [
       "<Figure size 432x288 with 1 Axes>"
      ]
     },
     "metadata": {},
     "output_type": "display_data"
    }
   ],
   "source": [
    "plt.style.use('ggplot')\n",
    "print(history.history.keys())\n",
    "accuracy = history.history['accuracy']\n",
    "val_accuracy = history.history['val_accuracy']\n",
    "loss = history.history['loss']\n",
    "val_loss =history.history['val_loss']\n",
    "epochs = range(len(accuracy))\n",
    "plt.plot(epochs, accuracy, label='Training accuracy')\n",
    "plt.plot(epochs, val_accuracy, label='Validation accuracy')\n",
    "plt.title('Training and validation accuracy')\n",
    "plt.legend()\n",
    "plt.show();\n",
    "plt.figure()\n",
    "plt.plot(epochs, loss, label='Training loss')\n",
    "plt.plot(epochs, val_loss, label='Validation loss')\n",
    "plt.title('Training and validation loss')\n",
    "plt.legend()\n",
    "plt.show();"
   ]
  },
  {
   "cell_type": "code",
   "execution_count": 21,
   "metadata": {},
   "outputs": [
    {
     "name": "stdout",
     "output_type": "stream",
     "text": [
      "Model: \"sequential\"\n",
      "_________________________________________________________________\n",
      "Layer (type)                 Output Shape              Param #   \n",
      "=================================================================\n",
      "flatten (Flatten)            (None, 784)               0         \n",
      "_________________________________________________________________\n",
      "dense (Dense)                (None, 500)               392500    \n",
      "_________________________________________________________________\n",
      "dense_1 (Dense)              (None, 200)               100200    \n",
      "_________________________________________________________________\n",
      "dense_2 (Dense)              (None, 50)                10050     \n",
      "_________________________________________________________________\n",
      "dense_3 (Dense)              (None, 10)                510       \n",
      "=================================================================\n",
      "Total params: 503,260\n",
      "Trainable params: 503,260\n",
      "Non-trainable params: 0\n",
      "_________________________________________________________________\n"
     ]
    },
    {
     "data": {
      "text/plain": [
       "28000"
      ]
     },
     "execution_count": 21,
     "metadata": {},
     "output_type": "execute_result"
    },
    {
     "data": {
      "text/plain": [
       "array([2, 0, 9, ..., 3, 9, 2], dtype=int64)"
      ]
     },
     "execution_count": 21,
     "metadata": {},
     "output_type": "execute_result"
    }
   ],
   "source": [
    "model.summary()\n",
    "probability_model = tf.keras.Sequential([model, \n",
    "                                         tf.keras.layers.Softmax()])\n",
    "predictions = probability_model.predict(X_test)\n",
    "# predictions[0]\n",
    "# np.argmax(predictions[0])\n",
    "# select the index with the maximum probability\n",
    "predictions = np.argmax(predictions,axis = 1)\n",
    "len(predictions)\n",
    "predictions"
   ]
  },
  {
   "cell_type": "code",
   "execution_count": 22,
   "metadata": {},
   "outputs": [],
   "source": [
    "pd.DataFrame({\"ImageId\":list(range(1,len(predictions)+1)),\n",
    "                 \"Label\":predictions}).to_csv(\"nn-model3.csv\", index=False, header=True)"
   ]
  },
  {
   "cell_type": "markdown",
   "metadata": {},
   "source": [
    "#### MODEL 3 RESULTS\n",
    "###### kaggle username: nameyeh\n",
    "###### kaggle score: 0.96528"
   ]
  },
  {
   "cell_type": "markdown",
   "metadata": {},
   "source": [
    "#### Model 4 - 5 layers, 1st layer: 500 neurons; 2nd layer: 200 neurons; 3rd layer: 50 neurons; 4th layer: 50 neurons; 5th layer: 25 neurons"
   ]
  },
  {
   "cell_type": "code",
   "execution_count": 23,
   "metadata": {},
   "outputs": [],
   "source": [
    "keras.backend.clear_session()\n",
    "np.random.seed(RANDOM_SEED)\n",
    "tf.random.set_seed(RANDOM_SEED)\n",
    "\n",
    "model = keras.models.Sequential([\n",
    "    keras.layers.Flatten(input_shape=[784,]),\n",
    "    keras.layers.Dense(500, activation=\"relu\"),\n",
    "    keras.layers.Dense(200, activation=\"relu\"),\n",
    "    keras.layers.Dense(50, activation=\"relu\"),\n",
    "    keras.layers.Dense(50, activation=\"relu\"),\n",
    "    keras.layers.Dense(25, activation=\"relu\"),\n",
    "    keras.layers.Dense(10, activation=\"softmax\")\n",
    "])\n",
    "\n",
    "model.compile(optimizer='adam',\n",
    "              loss=tf.keras.losses.SparseCategoricalCrossentropy(from_logits=True),\n",
    "              metrics=['accuracy'])"
   ]
  },
  {
   "cell_type": "code",
   "execution_count": 24,
   "metadata": {},
   "outputs": [
    {
     "name": "stdout",
     "output_type": "stream",
     "text": [
      "Train on 37800 samples, validate on 4200 samples\n",
      "Epoch 1/20\n",
      "37800/37800 [==============================] - 5s 141us/sample - loss: 1.6723 - accuracy: 0.7931 - val_loss: 1.6151 - val_accuracy: 0.8452\n",
      "Epoch 2/20\n",
      "37800/37800 [==============================] - 5s 121us/sample - loss: 1.6029 - accuracy: 0.8581 - val_loss: 1.6028 - val_accuracy: 0.8576\n",
      "Epoch 3/20\n",
      "37800/37800 [==============================] - 5s 126us/sample - loss: 1.5930 - accuracy: 0.8672 - val_loss: 1.5974 - val_accuracy: 0.8626\n",
      "Epoch 4/20\n",
      "37800/37800 [==============================] - 5s 121us/sample - loss: 1.5519 - accuracy: 0.9090 - val_loss: 1.5172 - val_accuracy: 0.9438\n",
      "Epoch 5/20\n",
      "37800/37800 [==============================] - 5s 132us/sample - loss: 1.5036 - accuracy: 0.9581 - val_loss: 1.5075 - val_accuracy: 0.9538\n",
      "Epoch 6/20\n",
      "37800/37800 [==============================] - 6s 149us/sample - loss: 1.5002 - accuracy: 0.9609 - val_loss: 1.5123 - val_accuracy: 0.9495\n",
      "Epoch 7/20\n",
      "37800/37800 [==============================] - 4s 116us/sample - loss: 1.4957 - accuracy: 0.9655 - val_loss: 1.5152 - val_accuracy: 0.9464\n",
      "Epoch 8/20\n",
      "37800/37800 [==============================] - 4s 105us/sample - loss: 1.4951 - accuracy: 0.9661 - val_loss: 1.4983 - val_accuracy: 0.9633\n",
      "Epoch 9/20\n",
      "37800/37800 [==============================] - 4s 106us/sample - loss: 1.4937 - accuracy: 0.9674 - val_loss: 1.5066 - val_accuracy: 0.9548\n",
      "Epoch 10/20\n",
      "37800/37800 [==============================] - 5s 138us/sample - loss: 1.4914 - accuracy: 0.9697 - val_loss: 1.5089 - val_accuracy: 0.9526\n",
      "Epoch 11/20\n",
      "37800/37800 [==============================] - 5s 131us/sample - loss: 1.4929 - accuracy: 0.9682 - val_loss: 1.5034 - val_accuracy: 0.9576\n",
      "Epoch 12/20\n",
      "37800/37800 [==============================] - 4s 110us/sample - loss: 1.4890 - accuracy: 0.9721 - val_loss: 1.5044 - val_accuracy: 0.9569\n",
      "Epoch 13/20\n",
      "37800/37800 [==============================] - 5s 135us/sample - loss: 1.4921 - accuracy: 0.9690 - val_loss: 1.5073 - val_accuracy: 0.9540\n",
      "Epoch 14/20\n",
      "37800/37800 [==============================] - 4s 117us/sample - loss: 1.4892 - accuracy: 0.9718 - val_loss: 1.5050 - val_accuracy: 0.9560\n",
      "Epoch 15/20\n",
      "37800/37800 [==============================] - 4s 105us/sample - loss: 1.4933 - accuracy: 0.9676 - val_loss: 1.5047 - val_accuracy: 0.9564\n",
      "Epoch 16/20\n",
      "37800/37800 [==============================] - 4s 111us/sample - loss: 1.4887 - accuracy: 0.9725 - val_loss: 1.5031 - val_accuracy: 0.9579\n",
      "Epoch 17/20\n",
      "37800/37800 [==============================] - 4s 105us/sample - loss: 1.4904 - accuracy: 0.9707 - val_loss: 1.5076 - val_accuracy: 0.9538\n",
      "Epoch 18/20\n",
      "37800/37800 [==============================] - 4s 113us/sample - loss: 1.4936 - accuracy: 0.9674 - val_loss: 1.4998 - val_accuracy: 0.9610\n",
      "Epoch 19/20\n",
      "37800/37800 [==============================] - 5s 140us/sample - loss: 1.4893 - accuracy: 0.9717 - val_loss: 1.5035 - val_accuracy: 0.9574\n",
      "Epoch 20/20\n",
      "37800/37800 [==============================] - 5s 142us/sample - loss: 1.4895 - accuracy: 0.9716 - val_loss: 1.5020 - val_accuracy: 0.9593\n",
      "37800/37800 - 3s - loss: 1.4850 - accuracy: 0.9762\n"
     ]
    },
    {
     "data": {
      "text/plain": [
       "[1.4849756185339873, 0.9762434]"
      ]
     },
     "execution_count": 24,
     "metadata": {},
     "output_type": "execute_result"
    },
    {
     "name": "stdout",
     "output_type": "stream",
     "text": [
      "4200/4200 - 0s - loss: 1.5020 - accuracy: 0.9593\n"
     ]
    },
    {
     "data": {
      "text/plain": [
       "[1.5019786553155807, 0.95928574]"
      ]
     },
     "execution_count": 24,
     "metadata": {},
     "output_type": "execute_result"
    },
    {
     "name": "stdout",
     "output_type": "stream",
     "text": [
      "\n",
      "\n",
      "-------- Model 4 --------\n",
      "Training accuracy:0.9762434\n",
      "Validation accuracy:0.95928574\n",
      "\n",
      "Start time: 241.538266666\n",
      "Stop time: 338.655199515\n",
      "processing time: 97.116932849\n"
     ]
    }
   ],
   "source": [
    "start_time_M4 = time.clock()\n",
    "\n",
    "history = model.fit(X_train, y_train, epochs=20,batch_size=50,\n",
    "                   validation_data=(X_valid, y_valid))\n",
    "\n",
    "train_score = model.evaluate(X_train, y_train,verbose=2)\n",
    "train_score\n",
    "training_acc4 = train_score[1]\n",
    "\n",
    "valid_score = model.evaluate(X_valid, y_valid,verbose=2)\n",
    "valid_score\n",
    "valid_acc4 = valid_score[1]\n",
    "print(\"\\n\")\n",
    "print(\"-------- Model 4 --------\")\n",
    "print(\"Training accuracy:\"+str(training_acc4))\n",
    "print(\"Validation accuracy:\"+str(valid_acc4))\n",
    "\n",
    "# Record end time for neral network training\n",
    "stop_time_M4 = time.clock()\n",
    "#Total processing time\n",
    "runtime_M4 = stop_time_M4 - start_time_M4 \n",
    "\n",
    "print(\"\\nStart time:\", start_time_M4)\n",
    "print(\"Stop time:\", stop_time_M4)\n",
    "print(\"processing time:\", runtime_M4)"
   ]
  },
  {
   "cell_type": "code",
   "execution_count": 25,
   "metadata": {},
   "outputs": [
    {
     "name": "stdout",
     "output_type": "stream",
     "text": [
      "dict_keys(['loss', 'accuracy', 'val_loss', 'val_accuracy'])\n"
     ]
    },
    {
     "data": {
      "image/png": "[encoded data removed]",
      "text/plain": [
       "<Figure size 432x288 with 1 Axes>"
      ]
     },
     "metadata": {},
     "output_type": "display_data"
    },
    {
     "data": {
      "image/png": "[encoded data removed]",
      "text/plain": [
       "<Figure size 432x288 with 1 Axes>"
      ]
     },
     "metadata": {},
     "output_type": "display_data"
    }
   ],
   "source": [
    "plt.style.use('ggplot')\n",
    "print(history.history.keys())\n",
    "accuracy = history.history['accuracy']\n",
    "val_accuracy = history.history['val_accuracy']\n",
    "loss = history.history['loss']\n",
    "val_loss = history.history['val_loss']\n",
    "epochs = range(len(accuracy))\n",
    "plt.plot(epochs, accuracy, label='Training accuracy')\n",
    "plt.plot(epochs, val_accuracy, label='Validation accuracy')\n",
    "plt.title('Training and validation accuracy')\n",
    "plt.legend()\n",
    "plt.show();\n",
    "plt.figure()\n",
    "plt.plot(epochs, loss, label='Training loss')\n",
    "plt.plot(epochs, val_loss, label='Validation loss')\n",
    "plt.title('Training and validation loss')\n",
    "plt.legend()\n",
    "plt.show();"
   ]
  },
  {
   "cell_type": "code",
   "execution_count": 26,
   "metadata": {},
   "outputs": [
    {
     "name": "stdout",
     "output_type": "stream",
     "text": [
      "Model: \"sequential\"\n",
      "_________________________________________________________________\n",
      "Layer (type)                 Output Shape              Param #   \n",
      "=================================================================\n",
      "flatten (Flatten)            (None, 784)               0         \n",
      "_________________________________________________________________\n",
      "dense (Dense)                (None, 500)               392500    \n",
      "_________________________________________________________________\n",
      "dense_1 (Dense)              (None, 200)               100200    \n",
      "_________________________________________________________________\n",
      "dense_2 (Dense)              (None, 50)                10050     \n",
      "_________________________________________________________________\n",
      "dense_3 (Dense)              (None, 50)                2550      \n",
      "_________________________________________________________________\n",
      "dense_4 (Dense)              (None, 25)                1275      \n",
      "_________________________________________________________________\n",
      "dense_5 (Dense)              (None, 10)                260       \n",
      "=================================================================\n",
      "Total params: 506,835\n",
      "Trainable params: 506,835\n",
      "Non-trainable params: 0\n",
      "_________________________________________________________________\n"
     ]
    },
    {
     "data": {
      "text/plain": [
       "28000"
      ]
     },
     "execution_count": 26,
     "metadata": {},
     "output_type": "execute_result"
    },
    {
     "data": {
      "text/plain": [
       "array([2, 0, 9, ..., 3, 9, 2], dtype=int64)"
      ]
     },
     "execution_count": 26,
     "metadata": {},
     "output_type": "execute_result"
    }
   ],
   "source": [
    "model.summary()\n",
    "probability_model = tf.keras.Sequential([model, \n",
    "                                         tf.keras.layers.Softmax()])\n",
    "predictions = probability_model.predict(X_test)\n",
    "# predictions[0]\n",
    "# np.argmax(predictions[0])\n",
    "# select the index with the maximum probability\n",
    "predictions = np.argmax(predictions,axis = 1)\n",
    "len(predictions)\n",
    "predictions"
   ]
  },
  {
   "cell_type": "code",
   "execution_count": 27,
   "metadata": {},
   "outputs": [],
   "source": [
    "pd.DataFrame({\"ImageId\":list(range(1,len(predictions)+1)),\n",
    "                 \"Label\":predictions}).to_csv(\"nn-model4.csv\", index=False, header=True)"
   ]
  },
  {
   "cell_type": "markdown",
   "metadata": {},
   "source": [
    "#### MODEL 4 RESULTS\n",
    "###### kaggle username: nameyeh\n",
    "###### kaggle score: 0.96114"
   ]
  },
  {
   "cell_type": "markdown",
   "metadata": {},
   "source": [
    "##### Tensor Flow Neural Network Benchmark Experiment Results (Tabular Format )"
   ]
  },
  {
   "cell_type": "code",
   "execution_count": 28,
   "metadata": {},
   "outputs": [
    {
     "data": {
      "text/html": [
       "<div>\n",
       "<style scoped>\n",
       "    .dataframe tbody tr th:only-of-type {\n",
       "        vertical-align: middle;\n",
       "    }\n",
       "\n",
       "    .dataframe tbody tr th {\n",
       "        vertical-align: top;\n",
       "    }\n",
       "\n",
       "    .dataframe thead th {\n",
       "        text-align: right;\n",
       "    }\n",
       "</style>\n",
       "<table border=\"1\" class=\"dataframe\">\n",
       "  <thead>\n",
       "    <tr style=\"text-align: right;\">\n",
       "      <th></th>\n",
       "      <th>Model</th>\n",
       "      <th>Number of Layers</th>\n",
       "      <th>Nodes per Layer</th>\n",
       "      <th>Processing Time</th>\n",
       "      <th>Train Accuracy</th>\n",
       "      <th>Test Accuracy</th>\n",
       "    </tr>\n",
       "  </thead>\n",
       "  <tbody>\n",
       "    <tr>\n",
       "      <th>0</th>\n",
       "      <td>1</td>\n",
       "      <td>1</td>\n",
       "      <td>400</td>\n",
       "      <td>51.548421</td>\n",
       "      <td>0.994788</td>\n",
       "      <td>0.97528</td>\n",
       "    </tr>\n",
       "    <tr>\n",
       "      <th>1</th>\n",
       "      <td>2</td>\n",
       "      <td>2</td>\n",
       "      <td>(400; 50)</td>\n",
       "      <td>63.864811</td>\n",
       "      <td>0.988254</td>\n",
       "      <td>0.96985</td>\n",
       "    </tr>\n",
       "    <tr>\n",
       "      <th>2</th>\n",
       "      <td>3</td>\n",
       "      <td>3</td>\n",
       "      <td>(500; 200; 50)</td>\n",
       "      <td>94.194545</td>\n",
       "      <td>0.980820</td>\n",
       "      <td>0.96528</td>\n",
       "    </tr>\n",
       "    <tr>\n",
       "      <th>3</th>\n",
       "      <td>4</td>\n",
       "      <td>5</td>\n",
       "      <td>(500; 200; 50; 50; 25)</td>\n",
       "      <td>97.116933</td>\n",
       "      <td>0.976243</td>\n",
       "      <td>0.96114</td>\n",
       "    </tr>\n",
       "  </tbody>\n",
       "</table>\n",
       "</div>"
      ],
      "text/plain": [
       "   Model  Number of Layers         Nodes per Layer  Processing Time  \\\n",
       "0  1      1                 400                     51.548421         \n",
       "1  2      2                 (400; 50)               63.864811         \n",
       "2  3      3                 (500; 200; 50)          94.194545         \n",
       "3  4      5                 (500; 200; 50; 50; 25)  97.116933         \n",
       "\n",
       "   Train Accuracy Test Accuracy  \n",
       "0  0.994788        0.97528       \n",
       "1  0.988254        0.96985       \n",
       "2  0.980820        0.96528       \n",
       "3  0.976243        0.96114       "
      ]
     },
     "execution_count": 28,
     "metadata": {},
     "output_type": "execute_result"
    }
   ],
   "source": [
    "import pandas as pd\n",
    "pd.set_option('display.max_colwidth', -1)\n",
    "pd.DataFrame({\n",
    "                \"Model\": [1,2,3,4],\n",
    "                \"Number of Layers\": [1, 2, 3, 5],\n",
    "                \"Nodes per Layer\": ['400','(400; 50)',\n",
    "                                    '(500; 200; 50)','(500; 200; 50; 50; 25)'],\n",
    "                \"Processing Time\": [runtime_M1,runtime_M2,runtime_M3,runtime_M4],\n",
    "                \"Train Accuracy\": [training_acc, training_acc2, training_acc3, training_acc4],\n",
    "                \"Test Accuracy\": ['0.97528', '0.96985', '0.96528', '0.96114']\n",
    "            })"
   ]
  },
  {
   "cell_type": "markdown",
   "metadata": {},
   "source": [
    "#### REPORT/FINDINGS: \n",
    "\n",
    "(1) A summary and problem definition for management; \n",
    "\n",
    "Suppose you are a financial institution evaluating machine learning technologies for optical character recognition. Initial testing is on the MNIST digits. What can you conclude from your benchmark study? Which neural network typology and hyperparameter settings would you recommend as being the most trustworthy?\n",
    "\n",
    "----\n",
    "\n",
    "(2) Discussion of the research design, measurement and statistical methods, traditional and machine learning methods employed;\n",
    "\n",
    "In this assignment, we used the MNIST dataset to train models to correctly identify digits from handwritten images.\n",
    "We fitted four neural networks, comparing processing time and performance across experimental treatments.\n",
    "\n",
    "---\n",
    "\n",
    "(3) Overview of programming work; \n",
    "\n",
    "We loaded the kaggle dataset and visualized an example image in both a matplotlib plot as well as a tensorboard. We also plotted the image classes and saw that the dataset was well-balanced. We created four models and plotted the train&validation accuracies and train&validation losses. \n",
    "\n",
    "Model 1 had one hidden layer with 400 neurons; Model 2 had two hidden layers, with first layer of 400 neurons, and second layer of 50 neurons; Model 3 had three hidden layers, first layer of 500 neurons, second layer of 200 neurons, and third layer of 50 neurons; and lastly, Model 4 had five hidden layers, first layer of 500 neurons, second layer of 200 neurons, third layer of 50 neurons, fourth layer of 50 neurons, and fifth layer of 25 neurons. For all the models, we used the relu activation function and the adam optimizer.  \n",
    "\n",
    "---\n",
    "\n",
    "(4) Review of results with recommendations for management.\n",
    "\n",
    "All 4 models had very similar test accuracies, ranging from 0.97528 to 0.96114, which is not a significant difference. The shortest processing time was 51 seconds and the longest processing time was 97 seconds. The hyperparameters we attempted to adjust between the models were number of hidden layers and nodes per layer, keeping other hyperparameters constant. In this case, the model that took the shortest amount of time to train also had the highest test accuracy of 97.5%, so we should recommend Model 1 (1 hidden layer with 400 neurons). \n",
    "\n",
    "----"
   ]
  },
  {
   "cell_type": "code",
   "execution_count": null,
   "metadata": {},
   "outputs": [],
   "source": []
  }
 ],
 "metadata": {
  "kernelspec": {
   "display_name": "Python [conda env:tf2]",
   "language": "python",
   "name": "conda-env-tf2-py"
  },
  "language_info": {
   "codemirror_mode": {
    "name": "ipython",
    "version": 3
   },
   "file_extension": ".py",
   "mimetype": "text/x-python",
   "name": "python",
   "nbconvert_exporter": "python",
   "pygments_lexer": "ipython3",
   "version": "3.7.6"
  }
 },
 "nbformat": 4,
 "nbformat_minor": 4
}
